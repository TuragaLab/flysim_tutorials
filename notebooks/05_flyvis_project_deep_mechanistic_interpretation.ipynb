{
  "cells": [
    {
      "cell_type": "markdown",
      "metadata": {},
      "source": [
        "# Project Idea 3: Across cell-type mechanistic interpretation with dimensionality reduction and clustering\n",
        "\n",
        "### Project overview\n",
        "\n",
        "**Goal**: Explore how predicted responses vary across the ensemble across cell-types using methods for dimensionality reduction and clustering.\n",
        "\n",
        "**Background on ensembles**:  \n",
        "flyvis provides access to a trained ensemble of neural network models. \n",
        "An ensemble contains several independently trained models that can exhibit different behaviors despite being trained on the same task. \n",
        "\n",
        "This variability arise from:\n",
        "- Different random weight initializations\n",
        "- Stochastic training \n",
        "- Different local minima in the optimization landscape\n",
        "\n",
        "**Guiding questions**:\n",
        "- If a model predicts upwards tuning for T4c does it also predict downwards tuning for T4d?\n",
        "- How do predicted responses covary across all cell types?\n",
        "- Do covariance patterns hold across the ensemble?\n",
        "- Which sets of cell types could have the same function according to the ensemble?\n",
        "\n",
        "### Learning objectives\n",
        "\n",
        "By completing this project, you will:\n",
        "- Use machine learning to characterize cell function across the models\n",
        "- Learn about different methods for dimensionality reduction and clustering\n",
        "- Interpret and discover model mechanisms that involve several cell types\n",
        "\n",
        "### Supporting references\n",
        "\n",
        "**General:**\n",
        "\n",
        "Flyvis Documentation. https://turagalab.github.io/flyvis/.  \n",
        "Lappalainen, J. K. et al. Connectome-constrained networks predict neural activity across the fly visual system. Nature 634, 1132–1140 (2024)."
      ]
    },
    {
      "cell_type": "code",
      "execution_count": 1,
      "metadata": {},
      "outputs": [
        {
          "name": "stdout",
          "output_type": "stream",
          "text": [
            "Imports completed. Ready for optimal stimulus design!\n"
          ]
        }
      ],
      "source": [
        "import numpy as np\n",
        "import torch\n",
        "import torch.nn.functional as F\n",
        "import matplotlib.pyplot as plt\n",
        "\n",
        "# FlyVis imports\n",
        "import flyvis\n",
        "from flyvis import NetworkView, EnsembleView\n",
        "from flyvis.datasets.sintel import AugmentedSintel\n",
        "from flyvis.analysis.optimal_stimuli import (\n",
        "    FindOptimalStimuli,\n",
        "    GenerateOptimalStimuli,\n",
        "    plot_stim_response,\n",
        ")\n",
        "from flyvis.utils.activity_utils import CentralActivity\n",
        "\n",
        "# Set up plotting\n",
        "plt.rcParams['figure.figsize'] = [5, 3]\n",
        "plt.rcParams['font.size'] = 6\n",
        "plt.rcParams['figure.dpi'] = 300\n",
        "\n",
        "print(\"Imports completed. Ready for optimal stimulus design!\")\n"
      ]
    },
    {
      "cell_type": "code",
      "execution_count": 2,
      "metadata": {},
      "outputs": [
        {
          "data": {
            "application/vnd.jupyter.widget-view+json": {
              "model_id": "d45b6807eef74f4498caf5cb83aa26f7",
              "version_major": 2,
              "version_minor": 0
            },
            "text/plain": [
              "Loading ensemble:   0%|          | 0/50 [00:00<?, ?it/s]"
            ]
          },
          "metadata": {},
          "output_type": "display_data"
        },
        {
          "name": "stderr",
          "output_type": "stream",
          "text": [
            "[2025-06-19 11:50:16] ensemble:166 Loaded 50 networks.\n"
          ]
        }
      ],
      "source": [
        "# Example steps:\n",
        "# 1. Load the pretrained ensemble\n",
        "ensemble = EnsembleView(\"flow/0000\")\n",
        "# 2. Generate responses to naturalistic stimuli\n",
        "# 3. Compare responses"
      ]
    }
  ],
  "metadata": {
    "kernelspec": {
      "display_name": ".venv",
      "language": "python",
      "name": "python3"
    },
    "language_info": {
      "codemirror_mode": {
        "name": "ipython",
        "version": 3
      },
      "file_extension": ".py",
      "mimetype": "text/x-python",
      "name": "python",
      "nbconvert_exporter": "python",
      "pygments_lexer": "ipython3",
      "version": "3.13.0"
    }
  },
  "nbformat": 4,
  "nbformat_minor": 2
}
