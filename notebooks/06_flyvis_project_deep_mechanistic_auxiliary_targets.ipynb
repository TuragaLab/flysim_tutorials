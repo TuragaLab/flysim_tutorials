{
  "cells": [
    {
      "cell_type": "markdown",
      "metadata": {},
      "source": [
        "# Project Idea 3: Deep mechanistic auxiliary targets\n",
        "\n",
        "### Project overview\n",
        "\n",
        "**Goal**: Develop auxiliary training targets to train properties such as mean, variance and coarse dynamic behavior of the cell type activity without task-training.\n",
        "\n",
        "**Background**:  \n",
        "Task-training alone does not guarantee that each model cell responds to a broad set of naturalistic stimuli, whereas biological neurons likely would.  \n",
        "Moreover, responses across cell types in the model can in principle reach arbitrary scales and misalign in their steady-state values, which is biologically implausible.\n",
        "\n",
        "**Guiding questions**:\n",
        "- What are responses across cell types to grey screen like?\n",
        "- What are responses across cell types to other simple stimuli like?\n",
        "- What could be auxiliary targets for the cell type responses in the network to control such behavior?\n",
        "- How to conceptualize an auxiliary target based on, for instance, information rate transfer (see refs below)?\n",
        "\n",
        "\n",
        "### Learning objectives:\n",
        "\n",
        "By completing this project, you will:\n",
        "- Understand the high-level behavior of trained networks\n",
        "- Develop your own training target to train network to your own mechanistic requirements\n",
        "- Implement your objective function and train the network without task training\n",
        "- Analyse the network mechanisms resulting from your auxiliary target\n",
        "\n",
        "### Supporting references\n",
        "\n",
        "**General:**\n",
        "\n",
        "Flyvis Documentation. https://turagalab.github.io/flyvis/.  \n",
        "Lappalainen, J. K. et al. Connectome-constrained networks predict neural activity across the fly visual system. Nature 634, 1132–1140 (2024).\n",
        "\n",
        "**Project Idea 4:**\n",
        "\n",
        "Juusola, M. & de Polavieja, G. G. The rate of information transfer of naturalistic stimulation by graded potentials. J. Gen. Physiol. 122, 191–206 (2003).  \n",
        "de Ruyter van Steveninck, R. R. & Laughlin, S. B. The rate of information transfer at graded-potential synapses. Nature 379, 642–645 (1996).\n",
        "\n",
        "  \n"
      ]
    },
    {
      "cell_type": "code",
      "execution_count": 7,
      "metadata": {},
      "outputs": [
        {
          "name": "stdout",
          "output_type": "stream",
          "text": [
            "Imports completed. Ready for optimal stimulus design!\n"
          ]
        }
      ],
      "source": [
        "import numpy as np\n",
        "import torch\n",
        "import torch.nn.functional as F\n",
        "import matplotlib.pyplot as plt\n",
        "\n",
        "# FlyVis imports\n",
        "import flyvis\n",
        "from flyvis import Network, NetworkView, EnsembleView\n",
        "from flyvis.datasets.sintel import AugmentedSintel\n",
        "from flyvis.analysis.optimal_stimuli import (\n",
        "    FindOptimalStimuli,\n",
        "    GenerateOptimalStimuli,\n",
        "    plot_stim_response,\n",
        ")\n",
        "from flyvis.utils.activity_utils import CentralActivity\n",
        "\n",
        "# Set up plotting\n",
        "plt.rcParams['figure.figsize'] = [5, 3]\n",
        "plt.rcParams['font.size'] = 6\n",
        "plt.rcParams['figure.dpi'] = 300\n",
        "\n",
        "print(\"Imports completed. Ready for optimal stimulus design!\")\n"
      ]
    },
    {
      "cell_type": "code",
      "execution_count": 8,
      "metadata": {},
      "outputs": [
        {
          "name": "stderr",
          "output_type": "stream",
          "text": [
            "[2025-06-19 11:50:04] network:222 Initialized network with NumberOfParams(free=734, fixed=2959) parameters.\n"
          ]
        }
      ],
      "source": [
        "# Example first steps:\n",
        "network = Network()\n",
        "\n",
        "# 1. Initialize a default network\n",
        "# 2. Check how the network responds to a grey screen\n",
        "# 3. Train the network to respond differently to a grey screen"
      ]
    }
  ],
  "metadata": {
    "kernelspec": {
      "display_name": ".venv",
      "language": "python",
      "name": "python3"
    },
    "language_info": {
      "codemirror_mode": {
        "name": "ipython",
        "version": 3
      },
      "file_extension": ".py",
      "mimetype": "text/x-python",
      "name": "python",
      "nbconvert_exporter": "python",
      "pygments_lexer": "ipython3",
      "version": "3.13.0"
    }
  },
  "nbformat": 4,
  "nbformat_minor": 2
}
