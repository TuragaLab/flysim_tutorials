{
  "cells": [
    {
      "cell_type": "markdown",
      "metadata": {
        "vscode": {
          "languageId": "raw"
        }
      },
      "source": [
        "# Project Idea 1: Optimal deep stimulus design for ensemble separation\n",
        "\n",
        "### Project overview\n",
        "\n",
        "**Goal**: Generate stimuli for model and hypothesis refinement in the context of competing hypotheses from models of an ensemble.\n",
        "\n",
        "**Background on ensembles**:  \n",
        "flyvis provides access to a trained ensemble of neural network models. \n",
        "An ensemble contains several independently trained models that can exhibit different behaviors despite being trained on the same task. \n",
        "\n",
        "This variability arise from:\n",
        "- Different random weight initializations\n",
        "- Stochastic training \n",
        "- Different local minima in the optimization landscape\n",
        "\n",
        "**Guiding questions**:\n",
        "- How do optimal stimuli change across different network models within an ensemble?\n",
        "- Which stimulus best separates the responses of two specific models?\n",
        "- Which stimulus maximally separates clusters of models with similar behaviors?\n",
        "\n",
        "### Learning objectives\n",
        "\n",
        "By completing this project, you will:\n",
        "- Implement your own gradient-based optimization for stimulus generation\n",
        "- Apply regularization techniques for stimuli\n",
        "- Evaluate stimulus effectiveness \n",
        "- Compare different optimization strategies and objective functions\n",
        "- Understand the mathematical principles of cluster-separating stimulus design\n",
        "\n",
        "\n",
        "### Supporting references\n",
        "\n",
        "**General:**\n",
        "\n",
        "Flyvis Documentation. https://turagalab.github.io/flyvis/.  \n",
        "Lappalainen, J. K. et al. Connectome-constrained networks predict neural activity across the fly visual system. Nature 634, 1132–1140 (2024).  \n",
        "\n",
        "**Project Idea 1:**\n",
        "\n",
        "Burg, M. F. et al. Most discriminative stimuli for functional cell type clustering. ArXiv arXiv:2401.05342v2 (2024).\n"
      ]
    },
    {
      "cell_type": "code",
      "execution_count": null,
      "metadata": {},
      "outputs": [],
      "source": [
        "# For Google Colab, uncomment and run this cell to install FlyVis\n",
        "# !pip install flyvis\n",
        "\n",
        "# Run this to download the pretrained model ensemble\n",
        "# !flyvis download-pretrained"
      ]
    },
    {
      "cell_type": "code",
      "execution_count": 9,
      "metadata": {},
      "outputs": [
        {
          "name": "stdout",
          "output_type": "stream",
          "text": [
            "Imports completed. Ready for optimal stimulus design!\n"
          ]
        }
      ],
      "source": [
        "import numpy as np\n",
        "import torch\n",
        "import torch.nn.functional as F\n",
        "import matplotlib.pyplot as plt\n",
        "\n",
        "# FlyVis imports\n",
        "import flyvis\n",
        "from flyvis import NetworkView, EnsembleView\n",
        "from flyvis.datasets.sintel import AugmentedSintel\n",
        "from flyvis.analysis.optimal_stimuli import (\n",
        "    FindOptimalStimuli,\n",
        "    GenerateOptimalStimuli,\n",
        "    plot_stim_response,\n",
        ")\n",
        "from flyvis.utils.activity_utils import CentralActivity\n",
        "\n",
        "# Set up plotting\n",
        "plt.rcParams['figure.figsize'] = [5, 3]\n",
        "plt.rcParams['font.size'] = 6\n",
        "plt.rcParams['figure.dpi'] = 300\n",
        "\n",
        "print(\"Imports completed. Ready for optimal stimulus design!\")\n"
      ]
    },
    {
      "cell_type": "code",
      "execution_count": null,
      "metadata": {},
      "outputs": [
        {
          "data": {
            "application/vnd.jupyter.widget-view+json": {
              "model_id": "ec87fe64501f4191af2261dc58d03009",
              "version_major": 2,
              "version_minor": 0
            },
            "text/plain": [
              "Loading ensemble:   0%|          | 0/50 [00:00<?, ?it/s]"
            ]
          },
          "metadata": {},
          "output_type": "display_data"
        },
        {
          "name": "stderr",
          "output_type": "stream",
          "text": [
            "[2025-06-19 11:14:09] ensemble:166 Loaded 50 networks.\n"
          ]
        }
      ],
      "source": [
        "# Example steps:\n",
        "# 1. Load the pretrained ensemble\n",
        "ensemble = EnsembleView(\"flow/0000\")\n",
        "# 2. Compare optimal stimuli across two models\n",
        "# model_1 = ensemble[0]\n",
        "# model_2 = ensemble[1]\n",
        "# 3. Generate your own optimal stimuli that separates the two models\n",
        "# 4. Cluster models by cell type\n",
        "# 5. Generate your own optimal stimuli that separates clusters of models"
      ]
    }
  ],
  "metadata": {
    "kernelspec": {
      "display_name": ".venv",
      "language": "python",
      "name": "python3"
    },
    "language_info": {
      "codemirror_mode": {
        "name": "ipython",
        "version": 3
      },
      "file_extension": ".py",
      "mimetype": "text/x-python",
      "name": "python",
      "nbconvert_exporter": "python",
      "pygments_lexer": "ipython3",
      "version": "3.13.0"
    }
  },
  "nbformat": 4,
  "nbformat_minor": 2
}
