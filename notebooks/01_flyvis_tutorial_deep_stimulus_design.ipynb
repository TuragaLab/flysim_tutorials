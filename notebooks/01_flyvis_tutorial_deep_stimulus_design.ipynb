{
 "cells": [
  {
   "cell_type": "markdown",
   "metadata": {},
   "source": [
    "# Tutorial 1: Deep stimulus design with flyvis\n",
    "\n",
    "## Learning objectives\n",
    "In this tutorial, you will learn to:\n",
    "- Load and work with pretrained neural network models of the fly visual system\n",
    "- Find optimal naturalistic stimuli that maximally excite specific neurons\n",
    "- Generate artificial optimal stimuli using gradient-based optimization\n",
    "- Compare different types of optimal stimuli and their effects\n",
    "\n",
    "## Introduction\n",
    "\n",
    "Understanding what makes a neuron respond strongly is fundamental to neuroscience. In this tutorial, we'll explore how to find and generate stimuli that maximally excite specific neurons in computational models of the fly visual system.\n",
    "\n",
    "**Model Ensembles**: The FlyVis framework includes ensembles of neural network models - multiple independently trained models of the fly visual system. Each model in the ensemble captures slightly different aspects of neural computation due to different initial conditions, training trajectories, or architectural variations. Working with ensembles allows us to:\n",
    "- Test the robustness of findings across multiple models\n",
    "- Identify stimuli that reveal differences between models\n",
    "- Understand which neural responses are consistent vs. variable across the population\n",
    "\n",
    "We'll work with three types of optimal stimuli:\n",
    "1. **Optimal naturalistic stimuli** - Finding the best stimulus from a dataset of natural scenes\n",
    "2. **Regularized optimal stimuli** - Simplifying naturalistic stimuli while preserving responses\n",
    "3. **Artificial optimal stimuli** - Generating stimuli from scratch using gradients\n",
    "\n",
    "These techniques become particularly powerful when applied across model ensembles, as demonstrated in the project ideas at the end of this tutorial."
   ]
  },
  {
   "cell_type": "markdown",
   "metadata": {},
   "source": [
    "## Setup\n",
    "\n",
    "First, let's import the necessary libraries and set up our environment:"
   ]
  },
  {
   "cell_type": "code",
   "execution_count": 1,
   "metadata": {},
   "outputs": [],
   "source": [
    "# For Google Colab, uncomment and run this cell to install FlyVis\n",
    "# !pip install git+https://github.com/TuragaLab/flysim_tutorials.git"
   ]
  },
  {
   "cell_type": "code",
   "execution_count": 2,
   "metadata": {},
   "outputs": [],
   "source": [
    "# Run this to download the pretrained model ensemble\n",
    "# !flyvis download-pretrained"
   ]
  },
  {
   "cell_type": "code",
   "execution_count": 3,
   "metadata": {},
   "outputs": [],
   "source": [
    "import matplotlib.pyplot as plt\n",
    "import numpy as np\n",
    "import torch\n",
    "\n",
    "# FlyVis imports\n",
    "from flyvis import NetworkView\n",
    "from flyvis.datasets.sintel import AugmentedSintel\n",
    "from flyvis.analysis.optimal_stimuli import (\n",
    "    FindOptimalStimuli,\n",
    "    GenerateOptimalStimuli,\n",
    "    plot_stim_response,\n",
    ")\n",
    "\n",
    "# Set up plotting\n",
    "plt.rcParams['figure.figsize'] = [5, 3]\n",
    "plt.rcParams['font.size'] = 6\n",
    "plt.rcParams['figure.dpi'] = 300"
   ]
  },
  {
   "cell_type": "markdown",
   "metadata": {},
   "source": [
    "## Part 1: Loading data and models\n",
    "\n",
    "Let's start by loading a dataset of naturalistic stimuli and a pretrained network model:"
   ]
  },
  {
   "cell_type": "code",
   "execution_count": 4,
   "metadata": {},
   "outputs": [
    {
     "name": "stderr",
     "output_type": "stream",
     "text": [
      "[2025-06-17 23:45:25] sintel_utils:331 Found Sintel at /home/lappalainenj@hhmi.org/flysim_tutorials/.venv/lib/python3.13/site-packages/flyvis/data/SintelDataSet\n",
      "[2025-06-17 23:45:26] network_view:122 Initialized network view at /home/lappalainenj@hhmi.org/flysim_tutorials/.venv/lib/python3.13/site-packages/flyvis/data/results/flow/0000/000\n"
     ]
    },
    {
     "name": "stdout",
     "output_type": "stream",
     "text": [
      "Dataset contains 2268 stimulus sequences\n",
      "Network model loaded successfully\n"
     ]
    },
    {
     "ename": "AttributeError",
     "evalue": "'NetworkView' object has no attribute 'network_id'",
     "output_type": "error",
     "traceback": [
      "\u001b[31m---------------------------------------------------------------------------\u001b[39m",
      "\u001b[31mAttributeError\u001b[39m                            Traceback (most recent call last)",
      "\u001b[36mCell\u001b[39m\u001b[36m \u001b[39m\u001b[32mIn[4]\u001b[39m\u001b[32m, line 13\u001b[39m\n\u001b[32m     11\u001b[39m \u001b[38;5;28mprint\u001b[39m(\u001b[33mf\u001b[39m\u001b[33m\"\u001b[39m\u001b[33mDataset contains \u001b[39m\u001b[38;5;132;01m{\u001b[39;00m\u001b[38;5;28mlen\u001b[39m(dataset)\u001b[38;5;132;01m}\u001b[39;00m\u001b[33m stimulus sequences\u001b[39m\u001b[33m\"\u001b[39m)\n\u001b[32m     12\u001b[39m \u001b[38;5;28mprint\u001b[39m(\u001b[33mf\u001b[39m\u001b[33m\"\u001b[39m\u001b[33mNetwork model loaded successfully\u001b[39m\u001b[33m\"\u001b[39m)\n\u001b[32m---> \u001b[39m\u001b[32m13\u001b[39m \u001b[38;5;28mprint\u001b[39m(\u001b[33mf\u001b[39m\u001b[33m\"\u001b[39m\u001b[33mModel ID: \u001b[39m\u001b[38;5;132;01m{\u001b[39;00m\u001b[43mnetwork_view\u001b[49m\u001b[43m.\u001b[49m\u001b[43mnetwork_id\u001b[49m\u001b[38;5;132;01m}\u001b[39;00m\u001b[33m from ensemble \u001b[39m\u001b[38;5;132;01m{\u001b[39;00mnetwork_view.ensemble_id\u001b[38;5;132;01m}\u001b[39;00m\u001b[33m\"\u001b[39m)\n",
      "\u001b[31mAttributeError\u001b[39m: 'NetworkView' object has no attribute 'network_id'"
     ]
    }
   ],
   "source": [
    "# Load the dataset of naturalistic stimuli (from the Sintel movie)\n",
    "dataset = AugmentedSintel(tasks=[\"lum\"], temporal_split=True)\n",
    "\n",
    "# Load a pretrained network model from the ensemble\n",
    "# The identifier \"flow/0000/000\" specifies: task/ensemble_id/network_id\n",
    "# - \"flow\": the training task (optic flow prediction)\n",
    "# - \"0000\": the first ensemble (collection of models trained with same configuration)\n",
    "# - \"000\": the first network within that ensemble\n",
    "network_view = NetworkView(\"flow/0000/000\")\n",
    "\n",
    "print(f\"Dataset contains {len(dataset)} stimulus sequences\")\n",
    "print(f\"Network model loaded successfully\")\n",
    "print(f\"Model ID: {network_view.network_id} from ensemble {network_view.ensemble_id}\")"
   ]
  },
  {
   "cell_type": "markdown",
   "metadata": {},
   "source": [
    "### Understanding the network architecture\n",
    "\n",
    "The network models the fly visual system, including different cell types. Let's explore what cell types are available:"
   ]
  },
  {
   "cell_type": "code",
   "execution_count": null,
   "metadata": {},
   "outputs": [],
   "source": [
    "# Get information about the network structure\n",
    "connectome = network_view.connectome\n",
    "cell_types = connectome.unique_cell_types\n",
    "\n",
    "print(\"Available cell types:\")\n",
    "for i, cell_type in enumerate(cell_types):\n",
    "    print(f\"{i+1:2d}. {cell_type}\")"
   ]
  },
  {
   "cell_type": "markdown",
   "metadata": {},
   "source": [
    "## Part 2: Finding optimal naturalistic stimuli\n",
    "\n",
    "Let's find the stimulus from our dataset that maximally excites a T4c neuron. T4c neurons are direction-selective and should respond strongly to upward-moving ON edges."
   ]
  },
  {
   "cell_type": "code",
   "execution_count": null,
   "metadata": {},
   "outputs": [],
   "source": [
    "# Create an object to find optimal stimuli\n",
    "findoptstim = FindOptimalStimuli(network_view, dataset)\n",
    "\n",
    "# For the T4c neuron, we expect that the maximally excitatory stimulus \n",
    "# should contain an ON-edge moving upward\n",
    "target_cell_type = \"T4c\"\n",
    "print(f\"Finding optimal stimulus for {target_cell_type} neuron...\")"
   ]
  },
  {
   "cell_type": "code",
   "execution_count": null,
   "metadata": {},
   "outputs": [],
   "source": [
    "# Find the optimal stimulus responses\n",
    "optstim = network_view.optimal_stimulus_responses(target_cell_type)\n",
    "\n",
    "# Plot the optimal naturalistic stimulus and the response it evokes\n",
    "stim_resp_plot = plot_stim_response(\n",
    "    optstim.stimulus.stimulus,\n",
    "    optstim.stimulus.response,\n",
    "    1 / 100,  # dt = 1/100 seconds\n",
    "    *network_view.connectome_view.get_uv(target_cell_type),\n",
    "    figsize=[8, 3],\n",
    "    label_peak_response=True,\n",
    ")\n",
    "\n",
    "plt.suptitle(f\"Optimal Naturalistic Stimulus for {target_cell_type}\", fontsize=8, y=0.8)"
   ]
  },
  {
   "cell_type": "markdown",
   "metadata": {},
   "source": [
    "### 🤔 Discussion Questions\n",
    "\n",
    "1. Does the optimal stimulus contain the expected ON-edge moving upward?\n",
    "2. What other visual features do you notice in the stimulus?\n",
    "3. When does the T4c neuron respond most strongly during the stimulus sequence?"
   ]
  },
  {
   "cell_type": "markdown",
   "metadata": {},
   "source": [
    "## Part 3: Regularized optimal stimuli\n",
    "\n",
    "The naturalistic stimulus contains many visual features. \n",
    "\n",
    "Using the differentiable model, the previous function already found a simpler version that maintains the same neural response but removes unnecessary details:"
   ]
  },
  {
   "cell_type": "code",
   "execution_count": null,
   "metadata": {},
   "outputs": [],
   "source": [
    "# Plot the regularized optimal stimulus\n",
    "stim_resp_plot = plot_stim_response(\n",
    "    optstim.regularized_stimulus,\n",
    "    optstim.response,\n",
    "    1 / 100,\n",
    "    *network_view.connectome_view.get_uv(target_cell_type),\n",
    "    figsize=[8, 3],\n",
    "    label_peak_response=True,\n",
    ")\n",
    "\n",
    "plt.gcf().suptitle(f\"Regularized Optimal Stimulus for {target_cell_type}\", fontsize=8, y=0.8)"
   ]
  },
  {
   "cell_type": "markdown",
   "metadata": {},
   "source": [
    "### Comparing Responses\n",
    "\n",
    "Let's verify that the regularized stimulus produces the same response as the original:"
   ]
  },
  {
   "cell_type": "code",
   "execution_count": null,
   "metadata": {},
   "outputs": [],
   "source": [
    "# Compare the neural responses\n",
    "fig, ax = plt.subplots(figsize=(8, 4))\n",
    "\n",
    "time = np.arange(len(optstim.central_target_response)) / 100\n",
    "ax.plot(time, optstim.central_target_response, label='Original naturalistic', linewidth=2)\n",
    "ax.plot(time, optstim.central_predicted_response, label='Regularized', linewidth=2, linestyle='--')\n",
    "\n",
    "ax.set_xlabel(\"Time (s)\")\n",
    "ax.set_ylabel(\"Neural Response\")\n",
    "ax.set_title(f\"Response Comparison for {target_cell_type}\")\n",
    "ax.legend()\n",
    "ax.grid(True, alpha=0.3)\n",
    "\n",
    "plt.tight_layout()\n",
    "plt.show()\n",
    "\n",
    "# Calculate correlation between responses\n",
    "correlation = np.corrcoef(optstim.central_target_response, optstim.central_predicted_response)[0, 1]\n",
    "print(f\"Correlation between original and regularized responses: {correlation:.3f}\")"
   ]
  },
  {
   "cell_type": "markdown",
   "metadata": {},
   "source": [
    "### 🤔 Discussion Questions\n",
    "\n",
    "1. How does the regularized stimulus differ from the original?\n",
    "2. What does this tell us about which features are important for driving T4c responses?\n",
    "3. Why might the regularized stimulus be more useful in neuroscience research?"
   ]
  },
  {
   "cell_type": "markdown",
   "metadata": {},
   "source": [
    "## Part 4: Generating artificial optimal stimuli\n",
    "\n",
    "Now let's generate an optimal stimulus completely from scratch using gradient-based optimization:"
   ]
  },
  {
   "cell_type": "code",
   "execution_count": null,
   "metadata": {},
   "outputs": [],
   "source": [
    "# Create stimulus generator\n",
    "genoptstim = GenerateOptimalStimuli(network_view)\n",
    "\n",
    "# Generate artificial optimal stimulus\n",
    "print(f\"Generating artificial optimal stimulus for {target_cell_type}...\")\n",
    "artoptstim = genoptstim.artificial_optimal_stimuli(target_cell_type, t_stim=0.8)\n",
    "\n",
    "print(\"Generation complete!\")"
   ]
  },
  {
   "cell_type": "code",
   "execution_count": null,
   "metadata": {},
   "outputs": [],
   "source": [
    "# Plot the artificial optimal stimulus\n",
    "stim_resp_plot = plot_stim_response(\n",
    "    artoptstim.stimulus,\n",
    "    artoptstim.response,\n",
    "    1 / 100,\n",
    "    *network_view.connectome_view.get_uv(target_cell_type),\n",
    "    figsize=[8, 3],\n",
    "    label_peak_response=True,\n",
    ")\n",
    "\n",
    "plt.gcf().suptitle(f\"Artificial Optimal Stimulus for {target_cell_type}\", fontsize=8, y=0.8)"
   ]
  },
  {
   "cell_type": "markdown",
   "metadata": {},
   "source": [
    "## Part 5: Comparing All Three Stimulus Types\n",
    "\n",
    "Let's compare the neural responses evoked by all three types of optimal stimuli:"
   ]
  },
  {
   "cell_type": "code",
   "execution_count": 12,
   "metadata": {},
   "outputs": [],
   "source": [
    "def plot_ms_before_peak(response, dt, seconds_before, ax, seconds_after=0.1, **plot_kwargs):\n",
    "    \"\"\"\n",
    "    Plot response aligned to peak time.\n",
    "    \n",
    "    Parameters:\n",
    "    - response: 1D array or 2D array (will take central column if 2D)\n",
    "    - dt: time step in seconds\n",
    "    - seconds_before: seconds to show before peak\n",
    "    - seconds_after: seconds to show after peak (default 0.1)\n",
    "    - **plot_kwargs: additional kwargs passed to plt.plot()\n",
    "    \n",
    "    Returns:\n",
    "    - peak_time: original peak time in seconds\n",
    "    - peak_idx: original peak index\n",
    "    \"\"\"\n",
    "    # Handle 2D response by taking central column\n",
    "    if response.ndim > 1:\n",
    "        response_1d = response[:, response.shape[-1] // 2].flatten()\n",
    "    else:\n",
    "        response_1d = response.flatten()\n",
    "    \n",
    "    # Find peak\n",
    "    argmax = np.nanargmax(response_1d)\n",
    "    n_frames = len(response_1d)\n",
    "    time = np.arange(n_frames) * dt\n",
    "    t_argmax = time[argmax]\n",
    "    \n",
    "    # Calculate window around peak\n",
    "    steps_before = int(seconds_before / dt)\n",
    "    steps_after = int(seconds_after / dt)\n",
    "    \n",
    "    start_idx = max(0, argmax - steps_before)\n",
    "    end_idx = min(n_frames, argmax + steps_after)\n",
    "    \n",
    "    # Extract window\n",
    "    window = response_1d[start_idx:end_idx]\n",
    "    window_time = np.arange(len(window)) * dt - seconds_before\n",
    "    \n",
    "    # Plot\n",
    "    ax.plot(window_time, window, **plot_kwargs)\n",
    "    \n",
    "    return t_argmax, argmax"
   ]
  },
  {
   "cell_type": "code",
   "execution_count": null,
   "metadata": {},
   "outputs": [],
   "source": [
    "# Compare all responses aligned to peak\n",
    "fig, ax = plt.subplots(figsize=(8, 3))\n",
    "\n",
    "dt = 1/100  # 100 Hz sampling rate\n",
    "seconds_before = 0.3  # 300 ms before peak\n",
    "seconds_after = 0.1   # 100 ms after peak\n",
    "\n",
    "# Plot each response with different styling\n",
    "nat_peak_time, nat_peak_idx = plot_ms_before_peak(\n",
    "    optstim.central_target_response, dt, seconds_before, ax,\n",
    "    seconds_after=seconds_after, label='Naturalistic', linewidth=2, color='blue'\n",
    ")\n",
    "\n",
    "reg_peak_time, reg_peak_idx = plot_ms_before_peak(\n",
    "    optstim.central_predicted_response, dt, seconds_before, ax,\n",
    "    seconds_after=seconds_after, label='Regularized naturalistic', linewidth=2, color='orange'\n",
    ")\n",
    "\n",
    "artificial_response = artoptstim.response[:, :, artoptstim.response.shape[-1] // 2].flatten()\n",
    "art_peak_time, art_peak_idx = plot_ms_before_peak(\n",
    "    artificial_response, dt, seconds_before, ax,\n",
    "    seconds_after=seconds_after, label='Artificial', linewidth=2, color='green'\n",
    ")\n",
    "\n",
    "# Add vertical line at peak (t=0)\n",
    "ax.axvline(x=0, color='black', linestyle='--', alpha=0.5, label='Aligned peaks')\n",
    "\n",
    "ax.set_xlabel(\"Time relative to peak (s)\")\n",
    "ax.set_ylabel(\"Neural Response\")\n",
    "ax.set_title(f\"Peak-Aligned Optimal Stimuli Responses for {target_cell_type}\")\n",
    "ax.legend()\n",
    "ax.grid(True, alpha=0.3)\n",
    "\n",
    "plt.tight_layout()\n",
    "plt.show()\n",
    "\n",
    "# Print peak information\n",
    "print(\"Peak values:\")\n",
    "print(f\"Naturalistic: {np.max(optstim.central_target_response.numpy()):.3f}\")\n",
    "print(f\"Regularized:  {np.max(optstim.central_predicted_response.numpy()):.3f}\")\n",
    "print(f\"Artificial:   {np.max(artificial_response):.3f}\")"
   ]
  },
  {
   "cell_type": "markdown",
   "metadata": {},
   "source": [
    "## Part 6: Exploring different cell types\n",
    "\n",
    "Let's try this analysis with a different cell type to see how the optimal stimuli differ:"
   ]
  },
  {
   "cell_type": "code",
   "execution_count": null,
   "metadata": {},
   "outputs": [],
   "source": [
    "# Try with a different cell type\n",
    "target_cell_type_2 = \"T5c\"  # T5c responds to OFF edges moving upward\n",
    "\n",
    "print(f\"Analyzing optimal stimuli for {target_cell_type_2}...\")\n",
    "\n",
    "# Get optimal stimulus responses for T5c\n",
    "optstim_t5c = network_view.optimal_stimulus_responses(target_cell_type_2)\n",
    "\n",
    "# Plot regularized stimulus for T5c\n",
    "stim_resp_plot = plot_stim_response(\n",
    "    optstim_t5c.regularized_stimulus,\n",
    "    optstim_t5c.response,\n",
    "    1 / 100,\n",
    "    *network_view.connectome_view.get_uv(target_cell_type_2),\n",
    "    figsize=[8, 3],\n",
    "    ylabel=\"Response\",\n",
    "    label_peak_response=True,\n",
    ")\n",
    "\n",
    "plt.gcf().suptitle(f\"Regularized Optimal Stimulus for {target_cell_type_2}\", fontsize=8, y=0.8)"
   ]
  },
  {
   "cell_type": "markdown",
   "metadata": {},
   "source": [
    "### 🤔 Discussion Questions\n",
    "\n",
    "1. How does the optimal stimulus for T5c differ from T4c?\n",
    "2. What does this tell us about the functional differences between these cell types?\n",
    "3. What are the advantages and disadvantages of each stimulus type for neuroscience research?\n",
    "4. Which stimulus type (naturalistic, regularized, or artificial) gives the strongest response?\n",
    "5. What would be other interesting objectives to use for the artificial stimulus design? "
   ]
  },
  {
   "cell_type": "markdown",
   "metadata": {},
   "source": [
    "## Part 7: Hands-on exercise\n",
    "\n",
    "Now it's your turn! Choose a different cell type and analyze its optimal stimuli:"
   ]
  },
  {
   "cell_type": "code",
   "execution_count": null,
   "metadata": {},
   "outputs": [],
   "source": [
    "# Exercise: Choose your own cell type to analyze\n",
    "# Available cell types: L1, L2, L3, L4, L5, Mi1, Tm3, Mi4, Mi9, CT1(M10), \n",
    "#                      T4a, T4b, T4c, T4d, T5a, T5b, T5c, T5d, Tm1, Tm2, Tm4, Tm9, etc.\n",
    "\n",
    "your_cell_type = \"Mi1\"  # Change this to your chosen cell type\n",
    "\n",
    "# Your code here:\n",
    "# 1. Get optimal stimulus responses for your chosen cell type\n",
    "# 2. Plot the regularized optimal stimulus\n",
    "# 3. Generate an artificial optimal stimulus\n",
    "# 4. Compare the responses\n",
    "\n",
    "# Hint: Follow the same pattern as above but replace the cell type"
   ]
  },
  {
   "cell_type": "markdown",
   "metadata": {},
   "source": [
    "## Summary\n",
    "\n",
    "In this tutorial, you've learned to:\n",
    "\n",
    "1. **Load and work with neural network models** of the fly visual system\n",
    "2. **Find optimal naturalistic stimuli** from datasets of natural scenes\n",
    "3. **Create regularized stimuli** that maintain neural responses while removing unnecessary details\n",
    "4. **Generate artificial optimal stimuli** using gradient-based optimization\n",
    "5. **Compare different stimulus types** and their effectiveness\n",
    "\n",
    "### Key Insights\n",
    "\n",
    "- Different cell types respond optimally to different visual features\n",
    "- Regularization can reveal the essential features driving neural responses\n",
    "- Artificial stimuli can sometimes evoke stronger responses than natural stimuli\n",
    "- These techniques are powerful tools for understanding neural computation\n",
    "\n",
    "### Next Steps\n",
    "\n",
    "In the next tutorial, we'll explore how to discover mechanisms in neural networks through dimensionality reduction and clustering techniques."
   ]
  },
  {
   "cell_type": "markdown",
   "metadata": {},
   "source": [
    "## Project guiding ideas\n",
    "\n",
    "### Idea 1: Optimal deep stimulus design\n",
    "\n",
    "**Goal**: Generate stimuli for model and hypothesis refinement in the context of competing hypotheses from models of an ensemble.\n",
    "\n",
    "**Background on ensembles**: flyvis provides access to a trained ensemble of neural network models. An ensemble contains several independently trained models that can exhibit different behaviors despite being trained on the same task. This variability arise from:\n",
    "- Different random weight initializations\n",
    "- Stochastic training \n",
    "- Different local minima in the optimization landscape\n",
    "\n",
    "**Guiding questions**:\n",
    "- How do optimal stimuli change across different network models within an ensemble?\n",
    "- Which stimulus best separates the responses of two specific models?\n",
    "- Which stimulus maximally separates clusters of models with similar behaviors?\n",
    "\n",
    "```python\n",
    "# Example: Load multiple models from an ensemble\n",
    "model_1 = NetworkView(\"flow/0000/000\")  # First model\n",
    "model_2 = NetworkView(\"flow/0000/001\")  # Second model  \n",
    "# Compare optimal stimuli across models\n",
    "# Generate stimuli that maximize differences between models\n",
    "```\n",
    "\n",
    "### Idea 2: Deep illusion design\n",
    "\n",
    "**Goal**: Generate illusion stimuli that deceive the network while maintaining specific aspects of their appearance.\n",
    "\n",
    "**Background**: Just like biological visual systems can be fooled by optical illusions, neural network models can also be susceptible to illusory stimuli. This project explores creating stimuli that maintain one perceptual property while disrupting another.\n",
    "\n",
    "**Guiding questions**:\n",
    "- Train a decoder to detect looming stimuli from model responses\n",
    "- What regularization techniques can maintain the looming outline while breaking detection?\n",
    "- What specific features create illusions for the network?\n",
    "- How do illusion susceptibilities differ across ensemble models?\n",
    "\n",
    "**Potential Approaches**:\n",
    "```python\n",
    "# Example framework for illusion design\n",
    "# 1. Train a looming detector on model responses\n",
    "# 2. Generate stimuli that look like looming but fool the detector\n",
    "# 3. Analyze which visual features are responsible for the illusion\n",
    "# 4. Compare illusion effectiveness across ensemble models\n",
    "```"
   ]
  },
  {
   "cell_type": "markdown",
   "metadata": {},
   "source": []
  }
 ],
 "metadata": {
  "kernelspec": {
   "display_name": ".venv",
   "language": "python",
   "name": "python3"
  },
  "language_info": {
   "codemirror_mode": {
    "name": "ipython",
    "version": 3
   },
   "file_extension": ".py",
   "mimetype": "text/x-python",
   "name": "python",
   "nbconvert_exporter": "python",
   "pygments_lexer": "ipython3",
   "version": "3.13.0"
  }
 },
 "nbformat": 4,
 "nbformat_minor": 4
}
