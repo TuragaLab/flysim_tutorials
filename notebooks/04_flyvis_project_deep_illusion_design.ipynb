{
  "cells": [
    {
      "cell_type": "raw",
      "metadata": {
        "vscode": {
          "languageId": "raw"
        }
      },
      "source": [
        "# Project 2: Deep illusion design - creating stimuli that fool neural networks\n",
        "\n",
        "## Project overview\n",
        "\n",
        "This project explores how to create visual illusions that exploit specific computational mechanisms in neural networks. You will design stimuli that appear to have certain properties (e.g., looming motion) but are not recognized as such by the trained networks, revealing insights about their internal representations and failure modes.\n",
        "\n",
        "## Mathematical foundation\n",
        "\n",
        "### The illusion design problem\n",
        "\n",
        "We want to create a stimulus S that:\n",
        "1. **Appears** to have property P to a human observer or ground-truth detector\n",
        "2. **Fails** to be recognized as having property P by our neural networks\n",
        "\n",
        "Mathematically, we seek:\n",
        "\n",
        "$$S^* = \\\\arg\\\\max_S \\\\left[ D_{human}(S, P) - \\\\frac{1}{N} \\\\sum_{i=1}^N D_{network_i}(S, P) \\\\right]$$\n",
        "\n",
        "where:\n",
        "- $D_{human}(S, P)$ measures how strongly stimulus S exhibits property P to humans\n",
        "- $D_{network_i}(S, P)$ measures how strongly network i detects property P in S\n",
        "- N is the number of networks in our ensemble\n",
        "\n",
        "### Looming detection as an example\n",
        "\n",
        "For looming stimuli, we can define the detection signal as the response of T4d neurons (which respond to expanding edges). The illusion objective becomes:\n",
        "\n",
        "$$J(S) = \\\\text{LoommingScore}_{human}(S) - \\\\lambda \\\\cdot \\\\text{mean}(R_{T4d}(S))$$\n",
        "\n",
        "where:\n",
        "- $\\\\text{LoommingScore}_{human}(S)$ quantifies visual looming cues (size increase, optical flow patterns)\n",
        "- $R_{T4d}(S)$ is the T4d response to stimulus S\n",
        "- $\\\\lambda$ balances the two objectives\n",
        "\n",
        "### Adversarial optimization\n",
        "\n",
        "We use adversarial optimization to find stimuli that maximize the illusion:\n",
        "\n",
        "$$\\\\nabla_S J(S) = \\\\nabla_S \\\\text{LoommingScore}_{human}(S) - \\\\lambda \\\\nabla_S \\\\text{mean}(R_{T4d}(S))$$\n",
        "\n",
        "### Texture-based illusions\n",
        "\n",
        "For texture-based illusions, we modify the background texture while preserving motion cues:\n",
        "\n",
        "$$S(x,y,t) = \\\\text{Motion}(x,y,t) + \\\\alpha \\\\cdot \\\\text{Texture}(x,y,t)$$\n",
        "\n",
        "where the texture is optimized to suppress network responses while maintaining human perception.\n",
        "\n",
        "## Learning objectives\n",
        "\n",
        "By completing this project, you will:\n",
        "- Understand the principles of adversarial stimulus design\n",
        "- Learn to create visual illusions that exploit neural network vulnerabilities\n",
        "- Explore the relationship between human and artificial vision\n",
        "- Implement gradient-based optimization for illusion generation\n",
        "- Analyze failure modes and robustness of neural networks\n"
      ]
    },
    {
      "cell_type": "raw",
      "metadata": {
        "vscode": {
          "languageId": "raw"
        }
      },
      "source": [
        "## Setup and imports\n"
      ]
    },
    {
      "cell_type": "code",
      "execution_count": null,
      "metadata": {},
      "outputs": [],
      "source": [
        "# For Google Colab, uncomment and run this cell to install FlyVis\n",
        "# !pip install flyvis\n",
        "\n",
        "import numpy as np\n",
        "import torch\n",
        "import torch.nn as nn\n",
        "import torch.optim as optim\n",
        "import matplotlib.pyplot as plt\n",
        "from scipy.ndimage import gaussian_filter\n",
        "from skimage import filters, measure\n",
        "import cv2\n",
        "\n",
        "# FlyVis imports\n",
        "import flyvis\n",
        "from flyvis import EnsembleView, NetworkView\n",
        "from flyvis.analysis.optimal_stimuli import GenerateOptimalStimuli\n",
        "from flyvis.datasets.moving_bar import MovingBar\n",
        "from flyvis.utils.activity_utils import CentralActivity\n",
        "from flyvis.analysis.animations import HexScatter\n",
        "\n",
        "# Set up computation\n",
        "plt.rcParams['figure.figsize'] = [14, 8]\n",
        "plt.rcParams['font.size'] = 10\n",
        "torch.set_grad_enabled(True)\n",
        "\n",
        "print(\"Imports completed. Ready for illusion design!\")\n"
      ]
    }
  ],
  "metadata": {
    "language_info": {
      "name": "python"
    }
  },
  "nbformat": 4,
  "nbformat_minor": 2
}
