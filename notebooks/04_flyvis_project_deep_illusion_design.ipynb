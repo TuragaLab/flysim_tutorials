{
  "cells": [
    {
      "cell_type": "markdown",
      "metadata": {
        "vscode": {
          "languageId": "raw"
        }
      },
      "source": [
        "# Project Idea 2: Deep illusion design\n",
        "\n",
        "### Project overview\n",
        "\n",
        "**Goal**: Generate illusion stimuli that deceive the network while maintaining specific aspects of their appearance.\n",
        "\n",
        "**Background**:  \n",
        "Just like biological visual systems can be fooled by optical illusions, neural network models can also be susceptible to illusory stimuli.  \n",
        "This project explores creating stimuli that maintain one perceptual property while disrupting another.\n",
        "\n",
        "**Guiding questions**:\n",
        "- Train a decoder to detect looming stimuli from model responses\n",
        "- What regularization techniques can maintain the looming outline while breaking detection?\n",
        "- What specific features create illusions for the network?\n",
        "- How do illusion susceptibilities differ across ensemble models?\n",
        "\n",
        "### Learning objectives\n",
        "\n",
        "By completing this project, you will:\n",
        "- Learn about visual illusions that exploit network mechanisms\n",
        "- Implement gradient-based optimization for illusion generation\n",
        "- Analyze resulting stimuli and propose novel experiments\n",
        "\n",
        "### Supporting references\n",
        "\n",
        "**General:**\n",
        "\n",
        "Flyvis Documentation. https://turagalab.github.io/flyvis/.  \n",
        "Lappalainen, J. K. et al. Connectome-constrained networks predict neural activity across the fly visual system. Nature 634, 1132–1140 (2024).  \n",
        "\n",
        "**Project Idea 2:**\n",
        "\n",
        "Bach, M. Reverse Phi Illusion. https://michaelbach.de/ot/mot-reversePhi/.  \n",
        "Salem, W., Cellini, B., Frye, M. A. & Mongeau, J.-M. Fly eyes are not still: a motion illusion in Drosophila flight supports parallel visual processing. J. Exp. Biol. 223, jeb212316 (2020).   \n",
        "Card, G. & Dickinson, M. H. Visually mediated motor planning in the escape response of Drosophila. Curr. Biol. 18, 1300–1307 (2008).  "
      ]
    },
    {
      "cell_type": "code",
      "execution_count": 1,
      "metadata": {},
      "outputs": [],
      "source": [
        "# For Google Colab, uncomment and run this cell to install FlyVis\n",
        "# !pip install flyvis\n",
        "\n",
        "# Run this to download the pretrained model ensemble\n",
        "# !flyvis download-pretrained"
      ]
    },
    {
      "cell_type": "code",
      "execution_count": 2,
      "metadata": {},
      "outputs": [
        {
          "name": "stdout",
          "output_type": "stream",
          "text": [
            "Imports completed. Ready for illusion design!\n"
          ]
        }
      ],
      "source": [
        "import numpy as np\n",
        "import torch\n",
        "import torch.nn.functional as F\n",
        "import matplotlib.pyplot as plt\n",
        "\n",
        "# FlyVis imports\n",
        "import flyvis\n",
        "from flyvis import NetworkView, EnsembleView\n",
        "from flyvis.datasets.sintel import AugmentedSintel\n",
        "from flyvis.analysis.optimal_stimuli import (\n",
        "    FindOptimalStimuli,\n",
        "    GenerateOptimalStimuli,\n",
        "    plot_stim_response,\n",
        ")\n",
        "from flyvis.utils.activity_utils import CentralActivity\n",
        "\n",
        "# Set up plotting\n",
        "plt.rcParams['figure.figsize'] = [5, 3]\n",
        "plt.rcParams['font.size'] = 6\n",
        "plt.rcParams['figure.dpi'] = 300\n",
        "\n",
        "print(\"Imports completed. Ready for illusion design!\")\n"
      ]
    },
    {
      "cell_type": "code",
      "execution_count": 3,
      "metadata": {},
      "outputs": [
        {
          "name": "stderr",
          "output_type": "stream",
          "text": [
            "[2025-06-19 11:49:59] network_view:122 Initialized network view at /home/lappalainenj@hhmi.org/flysim_tutorials/.venv/lib/python3.13/site-packages/flyvis/data/results/flow/0000/000\n",
            "[2025-06-19 11:49:59] logging_utils:23 epe not in /home/lappalainenj@hhmi.org/flysim_tutorials/.venv/lib/python3.13/site-packages/flyvis/data/results/flow/0000/000/validation, but 'loss' is. Falling back to 'loss'. You can rerun the ensemble validation to make appropriate recordings of the losses.\n"
          ]
        },
        {
          "name": "stderr",
          "output_type": "stream",
          "text": [
            "[2025-06-19 11:50:05] network:222 Initialized network with NumberOfParams(free=734, fixed=2959) parameters.\n",
            "[2025-06-19 11:50:05] chkpt_utils:36 Recovered network state.\n"
          ]
        }
      ],
      "source": [
        "# Example approach for illusion design\n",
        "# 1. Create a looming stimulus\n",
        "# 2. Train a looming detector on model responses\n",
        "\n",
        "nnv = NetworkView(\"flow/0000/000\")\n",
        "network = nnv.init_network()\n",
        "\n",
        "# 3. Generate stimuli that look like looming but fool the detector\n",
        "# 4. Analyze which visual features are responsible for the illusion\n",
        "# 5. Compare illusion effectiveness across ensemble models"
      ]
    }
  ],
  "metadata": {
    "kernelspec": {
      "display_name": ".venv",
      "language": "python",
      "name": "python3"
    },
    "language_info": {
      "codemirror_mode": {
        "name": "ipython",
        "version": 3
      },
      "file_extension": ".py",
      "mimetype": "text/x-python",
      "name": "python",
      "nbconvert_exporter": "python",
      "pygments_lexer": "ipython3",
      "version": "3.13.0"
    }
  },
  "nbformat": 4,
  "nbformat_minor": 2
}
